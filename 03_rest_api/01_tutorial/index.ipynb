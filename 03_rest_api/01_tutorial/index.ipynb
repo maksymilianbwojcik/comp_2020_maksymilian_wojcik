{
 "cells": [
  {
   "cell_type": "markdown",
   "metadata": {},
   "source": [
    "# COMP 2020"
   ]
  },
  {
   "cell_type": "markdown",
   "metadata": {},
   "source": [
    "## 3. REST API"
   ]
  },
  {
   "cell_type": "markdown",
   "metadata": {},
   "source": [
    "### 3.1. Tutorial"
   ]
  },
  {
   "cell_type": "markdown",
   "metadata": {},
   "source": [
    "Creating new Web API project:"
   ]
  },
  {
   "cell_type": "code",
   "execution_count": 6,
   "metadata": {},
   "outputs": [
    {
     "name": "stdout",
     "output_type": "stream",
     "text": [
      "The template \"ASP.NET Core Web API\" was created successfully.\n",
      "\n",
      "Processing post-creation actions...\n",
      "Running 'dotnet restore' on App/App.csproj...\n",
      "  Determining projects to restore...\n",
      "  Restored /home/student/comp_2020_maksymilian_wojcik/03_rest_api/01_tutorial/App/App.csproj (in 233 ms).\n",
      "\n",
      "Restore succeeded.\n",
      "\n",
      "\n",
      "An update for template pack Microsoft.DotNet.Web.ProjectTemplates.3.1::3.1.8 is available.\n",
      "    install command: dotnet new -i Microsoft.DotNet.Web.ProjectTemplates.3.1::3.1.10\n"
     ]
    }
   ],
   "source": [
    "! dotnet new webapi -o App"
   ]
  },
  {
   "cell_type": "markdown",
   "metadata": {},
   "source": [
    "Now we can start the application and open the [weatherforecast](https://localhost:5001/weatherforecast) page:"
   ]
  },
  {
   "cell_type": "code",
   "execution_count": 8,
   "metadata": {},
   "outputs": [
    {
     "name": "stdout",
     "output_type": "stream",
     "text": [
      "\u001b[?1h\u001b=\u001b[?1h\u001b=\u001b[?1h\u001b=\u001b[?1h\u001b=\u001b[?1h\u001b=\u001b[?1h\u001b=\u001b[?1h\u001b=\u001b[40m\u001b[32minfo\u001b[39m\u001b[22m\u001b[49m: Microsoft.Hosting.Lifetime[0]\n",
      "      Now listening on: https://localhost:5001\n",
      "\u001b[40m\u001b[32minfo\u001b[39m\u001b[22m\u001b[49m: Microsoft.Hosting.Lifetime[0]\n",
      "      Now listening on: http://localhost:5000\n",
      "\u001b[40m\u001b[32minfo\u001b[39m\u001b[22m\u001b[49m: Microsoft.Hosting.Lifetime[0]\n",
      "      Application started. Press Ctrl+C to shut down.\n",
      "\u001b[40m\u001b[32minfo\u001b[39m\u001b[22m\u001b[49m: Microsoft.Hosting.Lifetime[0]\n",
      "      Hosting environment: Development\n",
      "\u001b[40m\u001b[32minfo\u001b[39m\u001b[22m\u001b[49m: Microsoft.Hosting.Lifetime[0]\n",
      "      Content root path: /home/student/comp_2020_maksymilian_wojcik/03_rest_api/01_tutorial/App\n",
      "^C\n",
      "\u001b[40m\u001b[32minfo\u001b[39m\u001b[22m\u001b[49m: Microsoft.Hosting.Lifetime[0]\n",
      "      Application is shutting down...\n",
      "\u001b[?1h\u001b="
     ]
    }
   ],
   "source": [
    "! cd App && dotnet run"
   ]
  },
  {
   "cell_type": "markdown",
   "metadata": {},
   "source": [
    "Remember to stop the above cell when done!"
   ]
  },
  {
   "cell_type": "markdown",
   "metadata": {},
   "source": [
    "Important parts of the aplication:\n",
    "    \n",
    "- [Program.cs](../../../edit/03_rest_api/01_tutorial/App/Program.cs) (```Main```, ```CreateHostBuilder```)\n",
    "- [Startup.cs](../../../edit/03_rest_api/01_tutorial/App/Startup.cs) (```ConfigureServices```, ```Configure```, ```MapControllers```)\n",
    "- [Controllers/WeatherForecastController.cs](../../../edit/03_rest_api/01_tutorial/App/Controllers/WeatherForecastController.cs) (controller)\n",
    "- [WeatherForecast.cs](../../../edit/03_rest_api/01_tutorial/App/WeatherForecast.cs) (model)"
   ]
  },
  {
   "cell_type": "markdown",
   "metadata": {},
   "source": [
    "Cleanup:"
   ]
  },
  {
   "cell_type": "code",
   "execution_count": 5,
   "metadata": {},
   "outputs": [],
   "source": [
    "! rm -rf App"
   ]
  }
 ],
 "metadata": {
  "kernelspec": {
   "display_name": "Python 3",
   "language": "python",
   "name": "python3"
  },
  "language_info": {
   "codemirror_mode": {
    "name": "ipython",
    "version": 3
   },
   "file_extension": ".py",
   "mimetype": "text/x-python",
   "name": "python",
   "nbconvert_exporter": "python",
   "pygments_lexer": "ipython3",
   "version": "3.8.3"
  }
 },
 "nbformat": 4,
 "nbformat_minor": 4
}
