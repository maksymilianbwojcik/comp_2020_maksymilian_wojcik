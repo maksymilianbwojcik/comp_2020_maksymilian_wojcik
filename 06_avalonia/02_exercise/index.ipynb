{
 "cells": [
  {
   "cell_type": "markdown",
   "metadata": {},
   "source": [
    "# COMP 2020"
   ]
  },
  {
   "cell_type": "markdown",
   "metadata": {},
   "source": [
    "## 6. Avalonia GUI"
   ]
  },
  {
   "cell_type": "markdown",
   "metadata": {},
   "source": [
    "### 6.2. Exercise"
   ]
  },
  {
   "cell_type": "markdown",
   "metadata": {},
   "source": [
    "Tasks:\n",
    "\n",
    "1. First application\n",
    "\n",
    "    - Install application templates provided by the Avalonia framework\n",
    "    - Create an Avalonia MVVM application called ```App```\n",
    "    - Add FxCop, treat warnings as errors, unlock nullable references\n",
    "    - Correct compilation errors and inspections from the IDE\n",
    "\n",
    "\n",
    "2. Unit tests\n",
    "\n",
    "    - Add a text box that will allow you to enter your first name and will display a welcome message and clear the field when you click the button\n",
    "    - Write unit tests for new functionality\n",
    "    - Hints:\n",
    "        - For general instructions, see the tutorial on the Avalonia framework site\n",
    "        - The view should use bindings to the view model\n",
    "        - The name and welcome text should be properties of the view model\n",
    "        - The click should be handled using property of the ReactiveCommand type\n",
    "\n",
    "\n",
    "3. Use the Grid component to organize the elements in the GUI:\n",
    "\n",
    "    - The grid is to contain two columns - the first one takes 1/3 and the other 2/3 the width of the window.\n",
    "    - The grid is to contain two rows - the first with the same height as the components inside, the second filling the remaining height of the window.\n",
    "    - A text field should be placed in the upper left corner - the field contains a watermark that suggests entering the first name.\n",
    "    - In the upper right corner, add a button with the text \"Say hello!\".\n",
    "    - The next line will contain your greeting text - both horizontally and vertically centered."
   ]
  },
  {
   "cell_type": "code",
   "execution_count": null,
   "metadata": {},
   "outputs": [],
   "source": [
    "! rider project/project.sln"
   ]
  }
 ],
 "metadata": {
  "kernelspec": {
   "display_name": "Python 3",
   "language": "python",
   "name": "python3"
  },
  "language_info": {
   "codemirror_mode": {
    "name": "ipython",
    "version": 3
   },
   "file_extension": ".py",
   "mimetype": "text/x-python",
   "name": "python",
   "nbconvert_exporter": "python",
   "pygments_lexer": "ipython3",
   "version": "3.8.3"
  }
 },
 "nbformat": 4,
 "nbformat_minor": 4
}
