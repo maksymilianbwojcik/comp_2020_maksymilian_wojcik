{
 "cells": [
  {
   "cell_type": "markdown",
   "metadata": {},
   "source": [
    "# COMP 2020"
   ]
  },
  {
   "cell_type": "markdown",
   "metadata": {},
   "source": [
    "## 5. gRPC"
   ]
  },
  {
   "cell_type": "markdown",
   "metadata": {},
   "source": [
    "### 5.2. Exercise"
   ]
  },
  {
   "cell_type": "markdown",
   "metadata": {},
   "source": [
    "Tasks:\n",
    "\n",
    "1. First application\n",
    "    \n",
    "    - Create ```gRPC``` server appilcation called ```Server``` and add it to solution \n",
    "    - Create ```gRPC``` client appilcation called ```Client``` and add it to solution \n",
    "    -  Add FxCop analyzers, treat warnings as errors, unlock nullable references, and correct build errors and inspections from the IDE\n",
    "    - Test communication with the service\n",
    "\n",
    "\n",
    "2. Code generation\n",
    "\n",
    "    - Create library named ```Proto```\n",
    "    - Move code generation to the new library (library should contain generated code for both server and client)\n",
    "    - Add references to ```Proto``` library from ```Server``` and ```Client``` projects (remove old code generation)\n",
    "    - Add ```Test``` project and  unit tests for the generated service code\n",
    "\n",
    "\n",
    "3. Test wrapping\n",
    "\n",
    "    - Add a service that will allow text wrapping in the selected number of columns\n",
    "    - The service code should be covered with unit tests\n",
    "    - The client application should call the new service"
   ]
  },
  {
   "cell_type": "code",
   "execution_count": null,
   "metadata": {},
   "outputs": [],
   "source": [
    "! rider project/project.sln"
   ]
  }
 ],
 "metadata": {
  "kernelspec": {
   "display_name": "Python 3",
   "language": "python",
   "name": "python3"
  },
  "language_info": {
   "codemirror_mode": {
    "name": "ipython",
    "version": 3
   },
   "file_extension": ".py",
   "mimetype": "text/x-python",
   "name": "python",
   "nbconvert_exporter": "python",
   "pygments_lexer": "ipython3",
   "version": "3.8.3"
  }
 },
 "nbformat": 4,
 "nbformat_minor": 4
}
